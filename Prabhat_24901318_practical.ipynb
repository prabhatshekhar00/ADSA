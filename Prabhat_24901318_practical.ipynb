{
 "cells": [
  {
   "cell_type": "code",
   "execution_count": null,
   "id": "ffde9b63-397e-4c9d-b240-87160adfaf95",
   "metadata": {},
   "outputs": [],
   "source": [
    "#Implement a function to find all elements in an array that appear more than n/3 times, where n is the size of the array."
   ]
  },
  {
   "cell_type": "code",
   "execution_count": 17,
   "id": "c979b56a-5db1-4b57-aa85-b62e6d9a8465",
   "metadata": {},
   "outputs": [
    {
     "name": "stdout",
     "output_type": "stream",
     "text": [
      "Elements appearing more than n/3 times: [3]\n",
      "Elements appearing more than n/3 times: [1, 2]\n"
     ]
    }
   ],
   "source": [
    "def find_elements_n_by_3(nums):\n",
    "    if not nums:\n",
    "        return []\n",
    "\n",
    "    candidate1, candidate2, count1, count2 = None, None, 0, 0\n",
    "    \n",
    "    for num in nums:\n",
    "        if num == candidate1:\n",
    "            count1 += 1\n",
    "        elif num == candidate2:\n",
    "            count2 += 1\n",
    "        elif count1 == 0:\n",
    "            candidate1, count1 = num, 1\n",
    "        elif count2 == 0:\n",
    "            candidate2, count2 = num, 1\n",
    "        else:\n",
    "            count1 -= 1\n",
    "            count2 -= 1\n",
    "    \n",
    "    n = len(nums)\n",
    "    result = []\n",
    "    for candidate in [candidate1, candidate2]:\n",
    "        if candidate is not None and nums.count(candidate) > n // 3:\n",
    "            result.append(candidate)\n",
    "    \n",
    "    return result\n",
    "\n",
    "if __name__ == \"__main__\":\n",
    "    arr = [3, 2, 3]\n",
    "    print(\"Elements appearing more than n/3 times:\", find_elements_n_by_3(arr))\n",
    "    \n",
    "    arr = [1, 1, 1, 3, 3, 2, 2, 2]\n",
    "    print(\"Elements appearing more than n/3 times:\", find_elements_n_by_3(arr))\n"
   ]
  },
  {
   "cell_type": "code",
   "execution_count": null,
   "id": "990c6ef3-92af-4616-812b-244dacde592a",
   "metadata": {},
   "outputs": [],
   "source": [
    "#Write a function to search for an element in a stack"
   ]
  },
  {
   "cell_type": "code",
   "execution_count": 19,
   "id": "a558eb13-72ec-48cd-88c9-6bd177150e40",
   "metadata": {},
   "outputs": [
    {
     "name": "stdout",
     "output_type": "stream",
     "text": [
      "Element 3 found at position 3 from the top of the stack.\n"
     ]
    }
   ],
   "source": [
    "def search_stack(stack, target):\n",
    "    \"\"\"\n",
    "    Find an element in a stack.\n",
    "\n",
    "    Returns:\n",
    "\n",
    "        int: The position of the element from the top of the stack, starting from 1, if it’s found. Otherwise, it returns -1.\n",
    "   \n",
    "    \"\"\"\n",
    "    for index, element in enumerate(reversed(stack)):\n",
    "        if element == target:\n",
    "           \n",
    "            return index + 1\n",
    "    return -1\n",
    "\n",
    "if __name__ == \"__main__\":\n",
    "    \n",
    "    stack = [1, 2, 3, 4, 5]  \n",
    "    target = 3\n",
    "    position = search_stack(stack, target)\n",
    "    if position != -1:\n",
    "        print(f\"Element {target} found at position {position} from the top of the stack.\")\n",
    "    else:\n",
    "        print(f\"Element {target} not found in the stack.\")\n"
   ]
  },
  {
   "cell_type": "code",
   "execution_count": null,
   "id": "77a45980-2e18-466a-b1d2-dfd6850b843e",
   "metadata": {},
   "outputs": [],
   "source": [
    "#Design a program to convert a balanced AVL tree to a binary search tree."
   ]
  },
  {
   "cell_type": "code",
   "execution_count": 23,
   "id": "8a4defd8-697c-4da5-96eb-58223781b289",
   "metadata": {},
   "outputs": [
    {
     "name": "stdout",
     "output_type": "stream",
     "text": [
      "In-order traversal of the new BST:\n",
      "20 30 50 60 70 80 "
     ]
    }
   ],
   "source": [
    "class TreeNode:\n",
    "    def __init__(self, val=0, left=None, right=None):\n",
    "        self.val = val\n",
    "        self.left = left\n",
    "        self.right = right\n",
    "\n",
    "def in_order_traversal(root, result):\n",
    "   \n",
    "    if root is None:\n",
    "        return\n",
    "    in_order_traversal(root.left, result)\n",
    "    result.append(root.val)\n",
    "    in_order_traversal(root.right, result)\n",
    "\n",
    "def insert_into_bst(root, key):\n",
    "   \n",
    "    if root is None:\n",
    "        return TreeNode(key)\n",
    "    if key < root.val:\n",
    "        root.left = insert_into_bst(root.left, key)\n",
    "    else:\n",
    "        root.right = insert_into_bst(root.right, key)\n",
    "    return root\n",
    "\n",
    "def convert_avl_to_bst(avl_root):\n",
    "\n",
    "    sorted_elements = []\n",
    "    in_order_traversal(avl_root, sorted_elements)\n",
    "    \n",
    "    bst_root = None\n",
    "    for element in sorted_elements:\n",
    "        bst_root = insert_into_bst(bst_root, element)\n",
    "    \n",
    "    return bst_root\n",
    "\n",
    "def print_in_order(root):\n",
    "   \n",
    "    if root is None:\n",
    "        return\n",
    "    print_in_order(root.left)\n",
    "    print(root.val, end=\" \")\n",
    "    print_in_order(root.right)\n",
    "\n",
    "\n",
    "\n",
    "if __name__ == \"__main__\":\n",
    "    \n",
    "    avl_root = TreeNode(50)\n",
    "    avl_root.left = TreeNode(30)\n",
    "    avl_root.left.left = TreeNode(20)\n",
    "    avl_root.right = TreeNode(70)\n",
    "    avl_root.right.left = TreeNode(60)\n",
    "    avl_root.right.right = TreeNode(80)\n",
    "    \n",
    "    bst_root = convert_avl_to_bst(avl_root)\n",
    "   \n",
    "    print(\"In-order traversal of the new BST:\")\n",
    "    print_in_order(bst_root)\n"
   ]
  }
 ],
 "metadata": {
  "kernelspec": {
   "display_name": "Python 3 (ipykernel)",
   "language": "python",
   "name": "python3"
  },
  "language_info": {
   "codemirror_mode": {
    "name": "ipython",
    "version": 3
   },
   "file_extension": ".py",
   "mimetype": "text/x-python",
   "name": "python",
   "nbconvert_exporter": "python",
   "pygments_lexer": "ipython3",
   "version": "3.12.4"
  }
 },
 "nbformat": 4,
 "nbformat_minor": 5
}
