{
 "cells": [
  {
   "cell_type": "code",
   "execution_count": 31,
   "id": "2fcd1edb-77bf-4c32-bdee-f117ec35c36f",
   "metadata": {},
   "outputs": [
    {
     "name": "stdout",
     "output_type": "stream",
     "text": [
      "True\n"
     ]
    }
   ],
   "source": [
    "def binary_search(a, value):\n",
    "    if len(a) == 0:\n",
    "        return False\n",
    "\n",
    "    mid_index = len(a) // 2\n",
    "    mid = a[mid_index]\n",
    "    \n",
    "    if value == mid:\n",
    "        return True\n",
    "    elif value < mid:\n",
    "        return binary_search(a[:mid_index], value)\n",
    "    else:\n",
    "        return binary_search(a[mid_index + 1:], value)\n",
    "a = [2,5,35,5,1,78,579,2,5,7,457,462,]\n",
    "a.sort()\n",
    "g = binary_search(a, 5)\n",
    "print(g)\n"
   ]
  },
  {
   "cell_type": "code",
   "execution_count": null,
   "id": "18febee1-3cda-4bc0-a85d-527255881939",
   "metadata": {},
   "outputs": [],
   "source": []
  }
 ],
 "metadata": {
  "kernelspec": {
   "display_name": "Python 3 (ipykernel)",
   "language": "python",
   "name": "python3"
  },
  "language_info": {
   "codemirror_mode": {
    "name": "ipython",
    "version": 3
   },
   "file_extension": ".py",
   "mimetype": "text/x-python",
   "name": "python",
   "nbconvert_exporter": "python",
   "pygments_lexer": "ipython3",
   "version": "3.12.4"
  }
 },
 "nbformat": 4,
 "nbformat_minor": 5
}
